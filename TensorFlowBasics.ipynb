{
  "nbformat": 4,
  "nbformat_minor": 0,
  "metadata": {
    "colab": {
      "provenance": [],
      "collapsed_sections": [],
      "authorship_tag": "ABX9TyPp2EsPyiF+UzCnXtysoIJw",
      "include_colab_link": true
    },
    "kernelspec": {
      "name": "python3",
      "display_name": "Python 3"
    },
    "language_info": {
      "name": "python"
    }
  },
  "cells": [
    {
      "cell_type": "markdown",
      "metadata": {
        "id": "view-in-github",
        "colab_type": "text"
      },
      "source": [
        "<a href=\"https://colab.research.google.com/github/sanngh/Course/blob/master/TensorFlowBasics.ipynb\" target=\"_parent\"><img src=\"https://colab.research.google.com/assets/colab-badge.svg\" alt=\"Open In Colab\"/></a>"
      ]
    },
    {
      "cell_type": "code",
      "execution_count": 2,
      "metadata": {
        "id": "92M6Mg_tbmni"
      },
      "outputs": [],
      "source": [
        "import tensorflow as tf\n",
        "import numpy as np"
      ]
    },
    {
      "cell_type": "code",
      "source": [
        "print(\"Using TensorFlow version :\",tf.__version__)"
      ],
      "metadata": {
        "colab": {
          "base_uri": "https://localhost:8080/"
        },
        "id": "CTHU7yzFb2Vn",
        "outputId": "b398cd40-1734-4d84-f813-18fd3094b5f0"
      },
      "execution_count": 3,
      "outputs": [
        {
          "output_type": "stream",
          "name": "stdout",
          "text": [
            "Using TensorFlow version : 2.8.2\n"
          ]
        }
      ]
    },
    {
      "cell_type": "markdown",
      "source": [
        "Tensor of diff ranks"
      ],
      "metadata": {
        "id": "fJS2uONlcFs-"
      }
    },
    {
      "cell_type": "code",
      "source": [
        "\"\"\" Vector ia a 1-D tensor \"\"\"\n",
        "\n",
        "vector_tf  = tf.constant([0,1,2,3,4,5])\n",
        "vector_np  = np.array([0,1,2,3,4,5])\n",
        "print(\"Shape \",vector_tf.shape, vector_np.shape)\n",
        "\n",
        "\n",
        "\n",
        "\"\"\" Matrix ia a 2-D tensor \"\"\"\n",
        "\n",
        "matirx_tf  = tf.constant([[0,1],[2,3],[4,5]])\n",
        "matrix_np  = np.array([[0,1],[2,3],[4,5]])\n",
        "print(\"Shape \",matirx_tf.shape, matrix_np.shape)\n",
        "\n",
        "\n",
        "\n",
        "\"\"\" 3-D tensor \"\"\"\n",
        "\n",
        "t3_tf  = tf.constant([[[0,1],[2,3],[4,5]]]*4)\n",
        "t3_np  = np.array([[[0,1],[2,3],[4,5]]]*4)\n",
        "print(\"Shape \",t3_tf.shape, t3_np.shape)\n",
        "\n",
        "\n",
        "\n",
        "\"\"\" 4-D tensor \"\"\"\n",
        "\n",
        "t4_tf  = tf.constant([[[[0,1],[2,3],[4,5]]]*4]*5)\n",
        "t4_np  = np.array([[[[0,1],[2,3],[4,5]]]*4]*5)\n",
        "print(\"Shape \",t4_tf.shape, t4_np.shape)\n"
      ],
      "metadata": {
        "colab": {
          "base_uri": "https://localhost:8080/"
        },
        "id": "P9tvOcgHcEcf",
        "outputId": "dbe235f5-4069-45a6-a31d-1bf8b8977392"
      },
      "execution_count": 4,
      "outputs": [
        {
          "output_type": "stream",
          "name": "stdout",
          "text": [
            "Shape  (6,) (6,)\n",
            "Shape  (3, 2) (3, 2)\n",
            "Shape  (4, 3, 2) (4, 3, 2)\n",
            "Shape  (5, 4, 3, 2) (5, 4, 3, 2)\n"
          ]
        }
      ]
    },
    {
      "cell_type": "code",
      "source": [
        "t3_tf"
      ],
      "metadata": {
        "colab": {
          "base_uri": "https://localhost:8080/"
        },
        "id": "QPzLpmw1dpGV",
        "outputId": "d3ab30f8-6e05-44d4-9245-54ef3184789f"
      },
      "execution_count": 5,
      "outputs": [
        {
          "output_type": "execute_result",
          "data": {
            "text/plain": [
              "<tf.Tensor: shape=(4, 3, 2), dtype=int32, numpy=\n",
              "array([[[0, 1],\n",
              "        [2, 3],\n",
              "        [4, 5]],\n",
              "\n",
              "       [[0, 1],\n",
              "        [2, 3],\n",
              "        [4, 5]],\n",
              "\n",
              "       [[0, 1],\n",
              "        [2, 3],\n",
              "        [4, 5]],\n",
              "\n",
              "       [[0, 1],\n",
              "        [2, 3],\n",
              "        [4, 5]]], dtype=int32)>"
            ]
          },
          "metadata": {},
          "execution_count": 5
        }
      ]
    },
    {
      "cell_type": "code",
      "source": [
        "print(t3_tf)"
      ],
      "metadata": {
        "colab": {
          "base_uri": "https://localhost:8080/"
        },
        "id": "dpADEPqBd3ZW",
        "outputId": "cbe1cef8-a311-4469-b3fe-36c653da3fd3"
      },
      "execution_count": 6,
      "outputs": [
        {
          "output_type": "stream",
          "name": "stdout",
          "text": [
            "tf.Tensor(\n",
            "[[[0 1]\n",
            "  [2 3]\n",
            "  [4 5]]\n",
            "\n",
            " [[0 1]\n",
            "  [2 3]\n",
            "  [4 5]]\n",
            "\n",
            " [[0 1]\n",
            "  [2 3]\n",
            "  [4 5]]\n",
            "\n",
            " [[0 1]\n",
            "  [2 3]\n",
            "  [4 5]]], shape=(4, 3, 2), dtype=int32)\n"
          ]
        }
      ]
    },
    {
      "cell_type": "markdown",
      "source": [
        "Declaring Tensor"
      ],
      "metadata": {
        "id": "5VaARejyeYkw"
      }
    },
    {
      "cell_type": "code",
      "source": [
        "const_tf = tf.constant([[1,2],[3,4]])"
      ],
      "metadata": {
        "id": "hF7st7XUd-bc"
      },
      "execution_count": 7,
      "outputs": []
    },
    {
      "cell_type": "code",
      "source": [
        "varia_tf = tf.Variable([[1,2],[3,4]])"
      ],
      "metadata": {
        "id": "z2zwaPUpeirQ"
      },
      "execution_count": 8,
      "outputs": []
    },
    {
      "cell_type": "code",
      "source": [
        "\"\"\" int32 declare\"\"\"\n",
        "\n",
        "varia_tf_int32 = tf.Variable([[1,2],[3,4]], dtype = tf.int32)\n",
        "\n",
        "varia_tf_in64 = tf.Variable([[1,2],[3,4]], dtype = tf.int64)\n",
        "\n",
        "varia_tf_bool = tf.Variable([True,False,True], dtype = tf.bool)"
      ],
      "metadata": {
        "id": "mn02qnNefGpm"
      },
      "execution_count": 9,
      "outputs": []
    },
    {
      "cell_type": "code",
      "source": [
        "print(varia_tf_int32)\n",
        "print(varia_tf_in64)\n",
        "print(varia_tf_bool)\n",
        "\n",
        "\n",
        "print(varia_tf_int32.numpy())\n",
        "print(varia_tf_in64.numpy())\n",
        "print(varia_tf_bool.numpy())"
      ],
      "metadata": {
        "colab": {
          "base_uri": "https://localhost:8080/"
        },
        "id": "fv3QJL05fgge",
        "outputId": "b06bb726-8f29-467b-dde8-4941dbe494f5"
      },
      "execution_count": 10,
      "outputs": [
        {
          "output_type": "stream",
          "name": "stdout",
          "text": [
            "<tf.Variable 'Variable:0' shape=(2, 2) dtype=int32, numpy=\n",
            "array([[1, 2],\n",
            "       [3, 4]], dtype=int32)>\n",
            "<tf.Variable 'Variable:0' shape=(2, 2) dtype=int64, numpy=\n",
            "array([[1, 2],\n",
            "       [3, 4]])>\n",
            "<tf.Variable 'Variable:0' shape=(3,) dtype=bool, numpy=array([ True, False,  True])>\n",
            "[[1 2]\n",
            " [3 4]]\n",
            "[[1 2]\n",
            " [3 4]]\n",
            "[ True False  True]\n"
          ]
        }
      ]
    },
    {
      "cell_type": "markdown",
      "source": [
        "Declare Tensor 2,2,2,2 shape with random number from normal distribution with mean 1 and SD as 1"
      ],
      "metadata": {
        "id": "E8K4nxUngydF"
      }
    },
    {
      "cell_type": "code",
      "source": [
        "# Approach 1\n",
        "arr = np.random.randn(2,2,2,2)\n",
        "arr = arr + 1 ### ==> for mean 1\n",
        "arr = (1 * arr  ) + 1 ### ==> for SD as 1\n",
        "print(arr.shape)\n",
        "print(arr)"
      ],
      "metadata": {
        "colab": {
          "base_uri": "https://localhost:8080/"
        },
        "id": "bpt_WD5Nf7Eb",
        "outputId": "5b6d4a48-1049-4739-a66b-d172d2fd273d"
      },
      "execution_count": 18,
      "outputs": [
        {
          "output_type": "stream",
          "name": "stdout",
          "text": [
            "(2, 2, 2, 2)\n",
            "[[[[ 0.55945206  0.92923184]\n",
            "   [ 3.10559956  2.41583322]]\n",
            "\n",
            "  [[ 1.55214199  1.97179742]\n",
            "   [ 2.33771167  0.99805524]]]\n",
            "\n",
            "\n",
            " [[[ 1.23712     1.64965819]\n",
            "   [ 2.20681786  2.12807214]]\n",
            "\n",
            "  [[ 0.30366813  2.20197971]\n",
            "   [-0.28698497  2.29285507]]]]\n"
          ]
        }
      ]
    },
    {
      "cell_type": "code",
      "source": [
        "arr_tf = tf.constant(arr)\n",
        "print(arr_tf)\n",
        "print(arr_tf.numpy())"
      ],
      "metadata": {
        "colab": {
          "base_uri": "https://localhost:8080/"
        },
        "id": "F9G7PsSxhDZP",
        "outputId": "5c5b2b46-3329-49a3-86e1-e6ade5f48d70"
      },
      "execution_count": 19,
      "outputs": [
        {
          "output_type": "stream",
          "name": "stdout",
          "text": [
            "tf.Tensor(\n",
            "[[[[ 0.55945206  0.92923184]\n",
            "   [ 3.10559956  2.41583322]]\n",
            "\n",
            "  [[ 1.55214199  1.97179742]\n",
            "   [ 2.33771167  0.99805524]]]\n",
            "\n",
            "\n",
            " [[[ 1.23712     1.64965819]\n",
            "   [ 2.20681786  2.12807214]]\n",
            "\n",
            "  [[ 0.30366813  2.20197971]\n",
            "   [-0.28698497  2.29285507]]]], shape=(2, 2, 2, 2), dtype=float64)\n",
            "[[[[ 0.55945206  0.92923184]\n",
            "   [ 3.10559956  2.41583322]]\n",
            "\n",
            "  [[ 1.55214199  1.97179742]\n",
            "   [ 2.33771167  0.99805524]]]\n",
            "\n",
            "\n",
            " [[[ 1.23712     1.64965819]\n",
            "   [ 2.20681786  2.12807214]]\n",
            "\n",
            "  [[ 0.30366813  2.20197971]\n",
            "   [-0.28698497  2.29285507]]]]\n"
          ]
        }
      ]
    },
    {
      "cell_type": "code",
      "source": [
        "# Approach 2\n",
        "# Using TF functions \n",
        "arr_tf = tf.random.normal((2,2,2,2),mean = 1, stddev  =1 )\n",
        "print(arr_tf.numpy())"
      ],
      "metadata": {
        "id": "J5NUF11KhMOZ",
        "colab": {
          "base_uri": "https://localhost:8080/"
        },
        "outputId": "87a971a1-15d9-4e81-de8b-594bf31d1101"
      },
      "execution_count": 21,
      "outputs": [
        {
          "output_type": "stream",
          "name": "stdout",
          "text": [
            "[[[[ 1.4027361   0.860129  ]\n",
            "   [ 1.2550468   0.27226186]]\n",
            "\n",
            "  [[ 2.6277952   1.7042601 ]\n",
            "   [ 3.4524858   1.9667721 ]]]\n",
            "\n",
            "\n",
            " [[[ 2.0062752   2.0579472 ]\n",
            "   [ 0.9220606   1.138672  ]]\n",
            "\n",
            "  [[ 0.58462083 -0.00626159]\n",
            "   [ 2.5296717   3.084261  ]]]]\n"
          ]
        }
      ]
    },
    {
      "cell_type": "code",
      "source": [
        "# Maths Operation\n",
        "\n",
        "const_tf = tf.constant([[0,1],[2,3],[4,5]])\n",
        "\n",
        "new_tf = tf.add(const_tf,1)\n",
        "print(new_tf)\n",
        "\n",
        "new_tf = tf.add(const_tf,-1)\n",
        "print(new_tf)\n",
        "\n",
        "new_tf = tf.multiply(const_tf,100)\n",
        "print(new_tf)\n"
      ],
      "metadata": {
        "colab": {
          "base_uri": "https://localhost:8080/"
        },
        "id": "l2L3QrQKjsfm",
        "outputId": "8126a3b6-c6e7-4493-8484-e0729502f10e"
      },
      "execution_count": 25,
      "outputs": [
        {
          "output_type": "stream",
          "name": "stdout",
          "text": [
            "tf.Tensor(\n",
            "[[1 2]\n",
            " [3 4]\n",
            " [5 6]], shape=(3, 2), dtype=int32)\n",
            "tf.Tensor(\n",
            "[[-1  0]\n",
            " [ 1  2]\n",
            " [ 3  4]], shape=(3, 2), dtype=int32)\n",
            "tf.Tensor(\n",
            "[[  0 100]\n",
            " [200 300]\n",
            " [400 500]], shape=(3, 2), dtype=int32)\n"
          ]
        }
      ]
    },
    {
      "cell_type": "code",
      "source": [
        "x = tf.Variable([list(range(5))]*5)\n",
        "y = tf.Variable([list(range(5,10))]*5)\n",
        "\n",
        "print(x)\n",
        "print(y)"
      ],
      "metadata": {
        "id": "lmuijH9oktBd",
        "outputId": "0a2e1c5a-b262-49b3-da7e-45e248b59472",
        "colab": {
          "base_uri": "https://localhost:8080/"
        }
      },
      "execution_count": 28,
      "outputs": [
        {
          "output_type": "stream",
          "name": "stdout",
          "text": [
            "<tf.Variable 'Variable:0' shape=(5, 5) dtype=int32, numpy=\n",
            "array([[0, 1, 2, 3, 4],\n",
            "       [0, 1, 2, 3, 4],\n",
            "       [0, 1, 2, 3, 4],\n",
            "       [0, 1, 2, 3, 4],\n",
            "       [0, 1, 2, 3, 4]], dtype=int32)>\n",
            "<tf.Variable 'Variable:0' shape=(5, 5) dtype=int32, numpy=\n",
            "array([[5, 6, 7, 8, 9],\n",
            "       [5, 6, 7, 8, 9],\n",
            "       [5, 6, 7, 8, 9],\n",
            "       [5, 6, 7, 8, 9],\n",
            "       [5, 6, 7, 8, 9]], dtype=int32)>\n"
          ]
        }
      ]
    },
    {
      "cell_type": "code",
      "source": [
        "z=x+y\n",
        "print(z)"
      ],
      "metadata": {
        "id": "MrPl-cMcl5A4",
        "outputId": "82c9b9b0-5920-4f40-cb0e-5f619db58b1a",
        "colab": {
          "base_uri": "https://localhost:8080/"
        }
      },
      "execution_count": 31,
      "outputs": [
        {
          "output_type": "stream",
          "name": "stdout",
          "text": [
            "tf.Tensor(\n",
            "[[ 5  7  9 11 13]\n",
            " [ 5  7  9 11 13]\n",
            " [ 5  7  9 11 13]\n",
            " [ 5  7  9 11 13]\n",
            " [ 5  7  9 11 13]], shape=(5, 5), dtype=int32)\n"
          ]
        }
      ]
    },
    {
      "cell_type": "code",
      "source": [
        "z=x.numpy()+y.numpy()\n",
        "print(z)"
      ],
      "metadata": {
        "id": "GXJgHOrylUfd",
        "outputId": "56b08ff8-9307-4184-d00a-6253a86f8f53",
        "colab": {
          "base_uri": "https://localhost:8080/"
        }
      },
      "execution_count": 32,
      "outputs": [
        {
          "output_type": "stream",
          "name": "stdout",
          "text": [
            "[[ 5  7  9 11 13]\n",
            " [ 5  7  9 11 13]\n",
            " [ 5  7  9 11 13]\n",
            " [ 5  7  9 11 13]\n",
            " [ 5  7  9 11 13]]\n"
          ]
        }
      ]
    },
    {
      "cell_type": "code",
      "source": [
        "x = tf.random.uniform((2,2),minval = 1, maxval = 10 , dtype= tf.int32)"
      ],
      "metadata": {
        "id": "kpBiD_M4lv10"
      },
      "execution_count": 37,
      "outputs": []
    },
    {
      "cell_type": "code",
      "source": [
        "print(x.numpy())\n"
      ],
      "metadata": {
        "id": "TrTkhtF_lxkS",
        "outputId": "c277f984-1afd-4ae8-eea9-62a3d75c1010",
        "colab": {
          "base_uri": "https://localhost:8080/"
        }
      },
      "execution_count": 38,
      "outputs": [
        {
          "output_type": "stream",
          "name": "stdout",
          "text": [
            "[[9 7]\n",
            " [1 8]]\n"
          ]
        }
      ]
    },
    {
      "cell_type": "code",
      "source": [
        "y = tf.pow(x,2)\n",
        "print(y.numpy())"
      ],
      "metadata": {
        "id": "kq11Aen3mzkV",
        "outputId": "e7c0b599-24a5-4245-b3fe-5486ef8b493a",
        "colab": {
          "base_uri": "https://localhost:8080/"
        }
      },
      "execution_count": 40,
      "outputs": [
        {
          "output_type": "stream",
          "name": "stdout",
          "text": [
            "[[81 49]\n",
            " [ 1 64]]\n"
          ]
        }
      ]
    },
    {
      "cell_type": "code",
      "source": [
        "y = x*x\n",
        "print(y.numpy())"
      ],
      "metadata": {
        "id": "SUisXkT_m92l",
        "outputId": "da840c25-46ad-42d0-89b4-8286125ea391",
        "colab": {
          "base_uri": "https://localhost:8080/"
        }
      },
      "execution_count": 41,
      "outputs": [
        {
          "output_type": "stream",
          "name": "stdout",
          "text": [
            "[[81 49]\n",
            " [ 1 64]]\n"
          ]
        }
      ]
    },
    {
      "cell_type": "code",
      "source": [
        "x = tf.random.uniform((2,2),minval = 1, maxval = 10)\n",
        "print(x)"
      ],
      "metadata": {
        "id": "s8GnXwq-nFCG",
        "outputId": "19501f6a-f73a-454a-f8be-767c8c052119",
        "colab": {
          "base_uri": "https://localhost:8080/"
        }
      },
      "execution_count": 44,
      "outputs": [
        {
          "output_type": "stream",
          "name": "stdout",
          "text": [
            "tf.Tensor(\n",
            "[[7.3196898 9.829077 ]\n",
            " [3.9226904 9.664576 ]], shape=(2, 2), dtype=float32)\n"
          ]
        }
      ]
    },
    {
      "cell_type": "code",
      "source": [
        "y = tf.pow(x,2)\n",
        "print(y.numpy())"
      ],
      "metadata": {
        "id": "RCySm1bonPP3",
        "outputId": "66e308a1-c6f3-4464-9bcc-d7ee90ce26cb",
        "colab": {
          "base_uri": "https://localhost:8080/"
        }
      },
      "execution_count": 45,
      "outputs": [
        {
          "output_type": "stream",
          "name": "stdout",
          "text": [
            "[[53.577858 96.61075 ]\n",
            " [15.3875   93.40402 ]]\n"
          ]
        }
      ]
    },
    {
      "cell_type": "code",
      "source": [
        "x = tf.random.uniform((2,2),minval = 1, maxval = 10 , dtype= tf.int32)\n",
        "print(x)"
      ],
      "metadata": {
        "id": "FIPzvgjnnRcG",
        "outputId": "369960ef-9e23-4b38-ccaf-e0b4f6884c42",
        "colab": {
          "base_uri": "https://localhost:8080/"
        }
      },
      "execution_count": 47,
      "outputs": [
        {
          "output_type": "stream",
          "name": "stdout",
          "text": [
            "tf.Tensor(\n",
            "[[5 2]\n",
            " [9 6]], shape=(2, 2), dtype=int32)\n"
          ]
        }
      ]
    },
    {
      "cell_type": "code",
      "source": [
        "y = tf.multiply(x,x)\n",
        "print(y.numpy())"
      ],
      "metadata": {
        "id": "rgFDbQ1nncni",
        "outputId": "e2d38699-1150-4e13-94ce-c7b8e74e193d",
        "colab": {
          "base_uri": "https://localhost:8080/"
        }
      },
      "execution_count": 48,
      "outputs": [
        {
          "output_type": "stream",
          "name": "stdout",
          "text": [
            "[[25  4]\n",
            " [81 36]]\n"
          ]
        }
      ]
    },
    {
      "cell_type": "code",
      "source": [
        "x = tf.random.uniform((1,3),minval = 1, maxval = 10 , dtype= tf.int32)\n",
        "y = tf.random.uniform((1,3),minval = 1, maxval = 10 , dtype= tf.int32)\n",
        "\n",
        "print(x)\n",
        "print(y)"
      ],
      "metadata": {
        "id": "nCFeCPManlu6",
        "outputId": "f1bb641a-312c-4bd1-9c58-4b68d40fed0b",
        "colab": {
          "base_uri": "https://localhost:8080/"
        }
      },
      "execution_count": 52,
      "outputs": [
        {
          "output_type": "stream",
          "name": "stdout",
          "text": [
            "tf.Tensor([[7 6 6]], shape=(1, 3), dtype=int32)\n",
            "tf.Tensor([[1 5 1]], shape=(1, 3), dtype=int32)\n"
          ]
        }
      ]
    },
    {
      "cell_type": "code",
      "source": [
        "z = x+y\n",
        "print(z)"
      ],
      "metadata": {
        "id": "DonqmobKn29v",
        "outputId": "255100d2-6c40-4a52-a1e4-3d696cfdbf3b",
        "colab": {
          "base_uri": "https://localhost:8080/"
        }
      },
      "execution_count": 53,
      "outputs": [
        {
          "output_type": "stream",
          "name": "stdout",
          "text": [
            "tf.Tensor([[ 8 11  7]], shape=(1, 3), dtype=int32)\n"
          ]
        }
      ]
    },
    {
      "cell_type": "code",
      "source": [],
      "metadata": {
        "id": "9S6OsNzjn90B"
      },
      "execution_count": null,
      "outputs": []
    }
  ]
}