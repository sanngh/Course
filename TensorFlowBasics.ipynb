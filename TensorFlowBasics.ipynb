{
  "nbformat": 4,
  "nbformat_minor": 0,
  "metadata": {
    "colab": {
      "provenance": [],
      "collapsed_sections": [],
      "authorship_tag": "ABX9TyMn4EXtPtrmB/yS9BlHezLf",
      "include_colab_link": true
    },
    "kernelspec": {
      "name": "python3",
      "display_name": "Python 3"
    },
    "language_info": {
      "name": "python"
    }
  },
  "cells": [
    {
      "cell_type": "markdown",
      "metadata": {
        "id": "view-in-github",
        "colab_type": "text"
      },
      "source": [
        "<a href=\"https://colab.research.google.com/github/sanngh/Course/blob/master/TensorFlowBasics.ipynb\" target=\"_parent\"><img src=\"https://colab.research.google.com/assets/colab-badge.svg\" alt=\"Open In Colab\"/></a>"
      ]
    },
    {
      "cell_type": "code",
      "execution_count": 2,
      "metadata": {
        "id": "92M6Mg_tbmni"
      },
      "outputs": [],
      "source": [
        "import tensorflow as tf\n",
        "import numpy as np"
      ]
    },
    {
      "cell_type": "code",
      "source": [
        "print(\"Using TensorFlow version :\",tf.__version__)"
      ],
      "metadata": {
        "colab": {
          "base_uri": "https://localhost:8080/"
        },
        "id": "CTHU7yzFb2Vn",
        "outputId": "b398cd40-1734-4d84-f813-18fd3094b5f0"
      },
      "execution_count": 3,
      "outputs": [
        {
          "output_type": "stream",
          "name": "stdout",
          "text": [
            "Using TensorFlow version : 2.8.2\n"
          ]
        }
      ]
    },
    {
      "cell_type": "markdown",
      "source": [
        "Tensor of diff ranks"
      ],
      "metadata": {
        "id": "fJS2uONlcFs-"
      }
    },
    {
      "cell_type": "code",
      "source": [
        "\"\"\" Vector ia a 1-D tensor \"\"\"\n",
        "\n",
        "vector_tf  = tf.constant([0,1,2,3,4,5])\n",
        "vector_np  = np.array([0,1,2,3,4,5])\n",
        "print(\"Shape \",vector_tf.shape, vector_np.shape)\n",
        "\n",
        "\n",
        "\n",
        "\"\"\" Matrix ia a 2-D tensor \"\"\"\n",
        "\n",
        "matirx_tf  = tf.constant([[0,1],[2,3],[4,5]])\n",
        "matrix_np  = np.array([[0,1],[2,3],[4,5]])\n",
        "print(\"Shape \",matirx_tf.shape, matrix_np.shape)\n",
        "\n",
        "\n",
        "\n",
        "\"\"\" 3-D tensor \"\"\"\n",
        "\n",
        "t3_tf  = tf.constant([[[0,1],[2,3],[4,5]]]*4)\n",
        "t3_np  = np.array([[[0,1],[2,3],[4,5]]]*4)\n",
        "print(\"Shape \",t3_tf.shape, t3_np.shape)\n",
        "\n",
        "\n",
        "\n",
        "\"\"\" 4-D tensor \"\"\"\n",
        "\n",
        "t4_tf  = tf.constant([[[[0,1],[2,3],[4,5]]]*4]*5)\n",
        "t4_np  = np.array([[[[0,1],[2,3],[4,5]]]*4]*5)\n",
        "print(\"Shape \",t4_tf.shape, t4_np.shape)\n"
      ],
      "metadata": {
        "colab": {
          "base_uri": "https://localhost:8080/"
        },
        "id": "P9tvOcgHcEcf",
        "outputId": "dbe235f5-4069-45a6-a31d-1bf8b8977392"
      },
      "execution_count": 4,
      "outputs": [
        {
          "output_type": "stream",
          "name": "stdout",
          "text": [
            "Shape  (6,) (6,)\n",
            "Shape  (3, 2) (3, 2)\n",
            "Shape  (4, 3, 2) (4, 3, 2)\n",
            "Shape  (5, 4, 3, 2) (5, 4, 3, 2)\n"
          ]
        }
      ]
    },
    {
      "cell_type": "code",
      "source": [
        "t3_tf"
      ],
      "metadata": {
        "colab": {
          "base_uri": "https://localhost:8080/"
        },
        "id": "QPzLpmw1dpGV",
        "outputId": "d3ab30f8-6e05-44d4-9245-54ef3184789f"
      },
      "execution_count": 5,
      "outputs": [
        {
          "output_type": "execute_result",
          "data": {
            "text/plain": [
              "<tf.Tensor: shape=(4, 3, 2), dtype=int32, numpy=\n",
              "array([[[0, 1],\n",
              "        [2, 3],\n",
              "        [4, 5]],\n",
              "\n",
              "       [[0, 1],\n",
              "        [2, 3],\n",
              "        [4, 5]],\n",
              "\n",
              "       [[0, 1],\n",
              "        [2, 3],\n",
              "        [4, 5]],\n",
              "\n",
              "       [[0, 1],\n",
              "        [2, 3],\n",
              "        [4, 5]]], dtype=int32)>"
            ]
          },
          "metadata": {},
          "execution_count": 5
        }
      ]
    },
    {
      "cell_type": "code",
      "source": [
        "print(t3_tf)"
      ],
      "metadata": {
        "colab": {
          "base_uri": "https://localhost:8080/"
        },
        "id": "dpADEPqBd3ZW",
        "outputId": "cbe1cef8-a311-4469-b3fe-36c653da3fd3"
      },
      "execution_count": 6,
      "outputs": [
        {
          "output_type": "stream",
          "name": "stdout",
          "text": [
            "tf.Tensor(\n",
            "[[[0 1]\n",
            "  [2 3]\n",
            "  [4 5]]\n",
            "\n",
            " [[0 1]\n",
            "  [2 3]\n",
            "  [4 5]]\n",
            "\n",
            " [[0 1]\n",
            "  [2 3]\n",
            "  [4 5]]\n",
            "\n",
            " [[0 1]\n",
            "  [2 3]\n",
            "  [4 5]]], shape=(4, 3, 2), dtype=int32)\n"
          ]
        }
      ]
    },
    {
      "cell_type": "markdown",
      "source": [
        "Declaring Tensor"
      ],
      "metadata": {
        "id": "5VaARejyeYkw"
      }
    },
    {
      "cell_type": "code",
      "source": [
        "const_tf = tf.constant([[1,2],[3,4]])"
      ],
      "metadata": {
        "id": "hF7st7XUd-bc"
      },
      "execution_count": 7,
      "outputs": []
    },
    {
      "cell_type": "code",
      "source": [
        "varia_tf = tf.Variable([[1,2],[3,4]])"
      ],
      "metadata": {
        "id": "z2zwaPUpeirQ"
      },
      "execution_count": 8,
      "outputs": []
    },
    {
      "cell_type": "code",
      "source": [
        "\"\"\" int32 declare\"\"\"\n",
        "\n",
        "varia_tf_int32 = tf.Variable([[1,2],[3,4]], dtype = tf.int32)\n",
        "\n",
        "varia_tf_in64 = tf.Variable([[1,2],[3,4]], dtype = tf.int64)\n",
        "\n",
        "varia_tf_bool = tf.Variable([True,False,True], dtype = tf.bool)"
      ],
      "metadata": {
        "id": "mn02qnNefGpm"
      },
      "execution_count": 9,
      "outputs": []
    },
    {
      "cell_type": "code",
      "source": [
        "print(varia_tf_int32)\n",
        "print(varia_tf_in64)\n",
        "print(varia_tf_bool)\n",
        "\n",
        "\n",
        "print(varia_tf_int32.numpy())\n",
        "print(varia_tf_in64.numpy())\n",
        "print(varia_tf_bool.numpy())"
      ],
      "metadata": {
        "colab": {
          "base_uri": "https://localhost:8080/"
        },
        "id": "fv3QJL05fgge",
        "outputId": "b06bb726-8f29-467b-dde8-4941dbe494f5"
      },
      "execution_count": 10,
      "outputs": [
        {
          "output_type": "stream",
          "name": "stdout",
          "text": [
            "<tf.Variable 'Variable:0' shape=(2, 2) dtype=int32, numpy=\n",
            "array([[1, 2],\n",
            "       [3, 4]], dtype=int32)>\n",
            "<tf.Variable 'Variable:0' shape=(2, 2) dtype=int64, numpy=\n",
            "array([[1, 2],\n",
            "       [3, 4]])>\n",
            "<tf.Variable 'Variable:0' shape=(3,) dtype=bool, numpy=array([ True, False,  True])>\n",
            "[[1 2]\n",
            " [3 4]]\n",
            "[[1 2]\n",
            " [3 4]]\n",
            "[ True False  True]\n"
          ]
        }
      ]
    },
    {
      "cell_type": "markdown",
      "source": [
        "Declare Tensor 2,2,2,2 shape with random number from normal distribution with mean 1 and SD as 1"
      ],
      "metadata": {
        "id": "E8K4nxUngydF"
      }
    },
    {
      "cell_type": "code",
      "source": [
        "# Approach 1\n",
        "arr = np.random.randn(2,2,2,2)\n",
        "arr = arr + 1 ### ==> for mean 1\n",
        "arr = (1 * arr  ) + 1 ### ==> for SD as 1\n",
        "print(arr.shape)\n",
        "print(arr)"
      ],
      "metadata": {
        "colab": {
          "base_uri": "https://localhost:8080/"
        },
        "id": "bpt_WD5Nf7Eb",
        "outputId": "5b6d4a48-1049-4739-a66b-d172d2fd273d"
      },
      "execution_count": 18,
      "outputs": [
        {
          "output_type": "stream",
          "name": "stdout",
          "text": [
            "(2, 2, 2, 2)\n",
            "[[[[ 0.55945206  0.92923184]\n",
            "   [ 3.10559956  2.41583322]]\n",
            "\n",
            "  [[ 1.55214199  1.97179742]\n",
            "   [ 2.33771167  0.99805524]]]\n",
            "\n",
            "\n",
            " [[[ 1.23712     1.64965819]\n",
            "   [ 2.20681786  2.12807214]]\n",
            "\n",
            "  [[ 0.30366813  2.20197971]\n",
            "   [-0.28698497  2.29285507]]]]\n"
          ]
        }
      ]
    },
    {
      "cell_type": "code",
      "source": [
        "arr_tf = tf.constant(arr)\n",
        "print(arr_tf)\n",
        "print(arr_tf.numpy())"
      ],
      "metadata": {
        "colab": {
          "base_uri": "https://localhost:8080/"
        },
        "id": "F9G7PsSxhDZP",
        "outputId": "5c5b2b46-3329-49a3-86e1-e6ade5f48d70"
      },
      "execution_count": 19,
      "outputs": [
        {
          "output_type": "stream",
          "name": "stdout",
          "text": [
            "tf.Tensor(\n",
            "[[[[ 0.55945206  0.92923184]\n",
            "   [ 3.10559956  2.41583322]]\n",
            "\n",
            "  [[ 1.55214199  1.97179742]\n",
            "   [ 2.33771167  0.99805524]]]\n",
            "\n",
            "\n",
            " [[[ 1.23712     1.64965819]\n",
            "   [ 2.20681786  2.12807214]]\n",
            "\n",
            "  [[ 0.30366813  2.20197971]\n",
            "   [-0.28698497  2.29285507]]]], shape=(2, 2, 2, 2), dtype=float64)\n",
            "[[[[ 0.55945206  0.92923184]\n",
            "   [ 3.10559956  2.41583322]]\n",
            "\n",
            "  [[ 1.55214199  1.97179742]\n",
            "   [ 2.33771167  0.99805524]]]\n",
            "\n",
            "\n",
            " [[[ 1.23712     1.64965819]\n",
            "   [ 2.20681786  2.12807214]]\n",
            "\n",
            "  [[ 0.30366813  2.20197971]\n",
            "   [-0.28698497  2.29285507]]]]\n"
          ]
        }
      ]
    },
    {
      "cell_type": "code",
      "source": [
        "# Approach 2\n",
        "# Using TF functions \n",
        "arr_tf = tf.random.normal((2,2,2,2),mean = 1, stddev  =1 )\n",
        "print(arr_tf.numpy())"
      ],
      "metadata": {
        "id": "J5NUF11KhMOZ",
        "outputId": "87a971a1-15d9-4e81-de8b-594bf31d1101",
        "colab": {
          "base_uri": "https://localhost:8080/"
        }
      },
      "execution_count": 21,
      "outputs": [
        {
          "output_type": "stream",
          "name": "stdout",
          "text": [
            "[[[[ 1.4027361   0.860129  ]\n",
            "   [ 1.2550468   0.27226186]]\n",
            "\n",
            "  [[ 2.6277952   1.7042601 ]\n",
            "   [ 3.4524858   1.9667721 ]]]\n",
            "\n",
            "\n",
            " [[[ 2.0062752   2.0579472 ]\n",
            "   [ 0.9220606   1.138672  ]]\n",
            "\n",
            "  [[ 0.58462083 -0.00626159]\n",
            "   [ 2.5296717   3.084261  ]]]]\n"
          ]
        }
      ]
    },
    {
      "cell_type": "code",
      "source": [],
      "metadata": {
        "id": "l2L3QrQKjsfm"
      },
      "execution_count": null,
      "outputs": []
    }
  ]
}