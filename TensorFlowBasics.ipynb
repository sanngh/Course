{
  "nbformat": 4,
  "nbformat_minor": 0,
  "metadata": {
    "colab": {
      "provenance": [],
      "collapsed_sections": [],
      "authorship_tag": "ABX9TyMi+s2YgOtG2gh25sOccC2d",
      "include_colab_link": true
    },
    "kernelspec": {
      "name": "python3",
      "display_name": "Python 3"
    },
    "language_info": {
      "name": "python"
    }
  },
  "cells": [
    {
      "cell_type": "markdown",
      "metadata": {
        "id": "view-in-github",
        "colab_type": "text"
      },
      "source": [
        "<a href=\"https://colab.research.google.com/github/sanngh/Course/blob/master/TensorFlowBasics.ipynb\" target=\"_parent\"><img src=\"https://colab.research.google.com/assets/colab-badge.svg\" alt=\"Open In Colab\"/></a>"
      ]
    },
    {
      "cell_type": "code",
      "execution_count": 2,
      "metadata": {
        "id": "92M6Mg_tbmni"
      },
      "outputs": [],
      "source": [
        "import tensorflow as tf\n",
        "import numpy as np"
      ]
    },
    {
      "cell_type": "code",
      "source": [
        "print(\"Using TensorFlow version :\",tf.__version__)"
      ],
      "metadata": {
        "colab": {
          "base_uri": "https://localhost:8080/"
        },
        "id": "CTHU7yzFb2Vn",
        "outputId": "2618bcdd-ff31-4fe7-e25c-5f454bb4c73b"
      },
      "execution_count": 3,
      "outputs": [
        {
          "output_type": "stream",
          "name": "stdout",
          "text": [
            "Using TensorFlow version : 2.8.2\n"
          ]
        }
      ]
    },
    {
      "cell_type": "markdown",
      "source": [
        "Tensor of diff ranks"
      ],
      "metadata": {
        "id": "fJS2uONlcFs-"
      }
    },
    {
      "cell_type": "code",
      "source": [
        "\"\"\" Vector ia a 1-D tensor \"\"\"\n",
        "\n",
        "vector_tf  = tf.constant([0,1,2,3,4,5])\n",
        "vector_np  = np.array([0,1,2,3,4,5])\n",
        "print(\"Shape \",vector_tf.shape, vector_np.shape)\n",
        "\n",
        "\n",
        "\n",
        "\"\"\" Matrix ia a 2-D tensor \"\"\"\n",
        "\n",
        "matirx_tf  = tf.constant([[0,1],[2,3],[4,5]])\n",
        "matrix_np  = np.array([[0,1],[2,3],[4,5]])\n",
        "print(\"Shape \",matirx_tf.shape, matrix_np.shape)\n",
        "\n",
        "\n",
        "\n",
        "\"\"\" 3-D tensor \"\"\"\n",
        "\n",
        "t3_tf  = tf.constant([[[0,1],[2,3],[4,5]]]*4)\n",
        "t3_np  = np.array([[[0,1],[2,3],[4,5]]]*4)\n",
        "print(\"Shape \",t3_tf.shape, t3_np.shape)\n",
        "\n",
        "\n",
        "\n",
        "\"\"\" 4-D tensor \"\"\"\n",
        "\n",
        "t4_tf  = tf.constant([[[[0,1],[2,3],[4,5]]]*4]*5)\n",
        "t4_np  = np.array([[[[0,1],[2,3],[4,5]]]*4]*5)\n",
        "print(\"Shape \",t4_tf.shape, t4_np.shape)\n"
      ],
      "metadata": {
        "colab": {
          "base_uri": "https://localhost:8080/"
        },
        "id": "P9tvOcgHcEcf",
        "outputId": "9f6910a4-b1cd-4147-81c5-ba2621c4aecc"
      },
      "execution_count": 14,
      "outputs": [
        {
          "output_type": "stream",
          "name": "stdout",
          "text": [
            "Shape  (6,) (6,)\n",
            "Shape  (3, 2) (3, 2)\n",
            "Shape  (4, 3, 2) (4, 3, 2)\n",
            "Shape  (5, 4, 3, 2) (5, 4, 3, 2)\n"
          ]
        }
      ]
    },
    {
      "cell_type": "code",
      "source": [
        "t3_tf"
      ],
      "metadata": {
        "colab": {
          "base_uri": "https://localhost:8080/"
        },
        "id": "QPzLpmw1dpGV",
        "outputId": "8a317ce2-aab1-4de3-d649-ca49bb502b8f"
      },
      "execution_count": 15,
      "outputs": [
        {
          "output_type": "execute_result",
          "data": {
            "text/plain": [
              "<tf.Tensor: shape=(4, 3, 2), dtype=int32, numpy=\n",
              "array([[[0, 1],\n",
              "        [2, 3],\n",
              "        [4, 5]],\n",
              "\n",
              "       [[0, 1],\n",
              "        [2, 3],\n",
              "        [4, 5]],\n",
              "\n",
              "       [[0, 1],\n",
              "        [2, 3],\n",
              "        [4, 5]],\n",
              "\n",
              "       [[0, 1],\n",
              "        [2, 3],\n",
              "        [4, 5]]], dtype=int32)>"
            ]
          },
          "metadata": {},
          "execution_count": 15
        }
      ]
    },
    {
      "cell_type": "code",
      "source": [
        "print(t3_tf)"
      ],
      "metadata": {
        "colab": {
          "base_uri": "https://localhost:8080/"
        },
        "id": "dpADEPqBd3ZW",
        "outputId": "d18d519b-6246-480f-dbfe-0573e643f54c"
      },
      "execution_count": 16,
      "outputs": [
        {
          "output_type": "stream",
          "name": "stdout",
          "text": [
            "tf.Tensor(\n",
            "[[[0 1]\n",
            "  [2 3]\n",
            "  [4 5]]\n",
            "\n",
            " [[0 1]\n",
            "  [2 3]\n",
            "  [4 5]]\n",
            "\n",
            " [[0 1]\n",
            "  [2 3]\n",
            "  [4 5]]\n",
            "\n",
            " [[0 1]\n",
            "  [2 3]\n",
            "  [4 5]]], shape=(4, 3, 2), dtype=int32)\n"
          ]
        }
      ]
    },
    {
      "cell_type": "markdown",
      "source": [
        "Declaring Tensor"
      ],
      "metadata": {
        "id": "5VaARejyeYkw"
      }
    },
    {
      "cell_type": "code",
      "source": [
        "const_tf = tf.constant([[1,2],[3,4]])"
      ],
      "metadata": {
        "id": "hF7st7XUd-bc"
      },
      "execution_count": 17,
      "outputs": []
    },
    {
      "cell_type": "code",
      "source": [
        "varia_tf = tf.Variable([[1,2],[3,4]])"
      ],
      "metadata": {
        "id": "z2zwaPUpeirQ"
      },
      "execution_count": 18,
      "outputs": []
    },
    {
      "cell_type": "code",
      "source": [
        "\"\"\" int32 declare\"\"\"\n",
        "\n",
        "varia_tf_int32 = tf.Variable([[1,2],[3,4]], dtype = tf.int32)\n",
        "\n",
        "varia_tf_in64 = tf.Variable([[1,2],[3,4]], dtype = tf.int64)\n",
        "\n",
        "varia_tf_bool = tf.Variable([True,False,True], dtype = tf.bool)"
      ],
      "metadata": {
        "id": "mn02qnNefGpm"
      },
      "execution_count": 22,
      "outputs": []
    },
    {
      "cell_type": "code",
      "source": [
        "print(varia_tf_int32)\n",
        "print(varia_tf_in64)\n",
        "print(varia_tf_bool)\n",
        "\n",
        "\n",
        "print(varia_tf_int32.numpy())\n",
        "print(varia_tf_in64.numpy())\n",
        "print(varia_tf_bool.numpy())"
      ],
      "metadata": {
        "colab": {
          "base_uri": "https://localhost:8080/"
        },
        "id": "fv3QJL05fgge",
        "outputId": "0fc4e134-1257-40b7-a386-aad191a1b4cb"
      },
      "execution_count": 25,
      "outputs": [
        {
          "output_type": "stream",
          "name": "stdout",
          "text": [
            "<tf.Variable 'Variable:0' shape=(2, 2) dtype=int32, numpy=\n",
            "array([[1, 2],\n",
            "       [3, 4]], dtype=int32)>\n",
            "<tf.Variable 'Variable:0' shape=(2, 2) dtype=int64, numpy=\n",
            "array([[1, 2],\n",
            "       [3, 4]])>\n",
            "<tf.Variable 'Variable:0' shape=(3,) dtype=bool, numpy=array([ True, False,  True])>\n",
            "[[1 2]\n",
            " [3 4]]\n",
            "[[1 2]\n",
            " [3 4]]\n",
            "[ True False  True]\n"
          ]
        }
      ]
    },
    {
      "cell_type": "markdown",
      "source": [
        "Declare Tensor 2,2,2,2 shape with random number from normal distribution with mean 1 and SD as 1"
      ],
      "metadata": {
        "id": "E8K4nxUngydF"
      }
    },
    {
      "cell_type": "code",
      "source": [
        "arr = np.random.randn(2,2,2,2)\n",
        "print(arr.shape)\n",
        "print(arr)"
      ],
      "metadata": {
        "colab": {
          "base_uri": "https://localhost:8080/"
        },
        "id": "bpt_WD5Nf7Eb",
        "outputId": "d5848579-fe0b-48b8-89d0-064074a1f759"
      },
      "execution_count": 30,
      "outputs": [
        {
          "output_type": "stream",
          "name": "stdout",
          "text": [
            "(2, 2, 2, 2)\n",
            "[[[[-1.00052991  0.31250366]\n",
            "   [-0.83042453 -0.72594936]]\n",
            "\n",
            "  [[-1.32795863 -0.75179424]\n",
            "   [-1.10585295  0.79656794]]]\n",
            "\n",
            "\n",
            " [[[-0.05676252 -0.31230726]\n",
            "   [-1.66609124 -0.16467187]]\n",
            "\n",
            "  [[-0.54213159 -0.04643955]\n",
            "   [ 0.04653103 -0.39805297]]]]\n"
          ]
        }
      ]
    },
    {
      "cell_type": "code",
      "source": [
        "arr_tf = tf.constant(arr)\n",
        "print(arr_tf)\n",
        "print(arr_tf.numpy())"
      ],
      "metadata": {
        "colab": {
          "base_uri": "https://localhost:8080/"
        },
        "id": "F9G7PsSxhDZP",
        "outputId": "8cd43d3c-ad71-47cb-ace9-2111c9bf5b36"
      },
      "execution_count": 33,
      "outputs": [
        {
          "output_type": "stream",
          "name": "stdout",
          "text": [
            "tf.Tensor(\n",
            "[[[[-1.00052991  0.31250366]\n",
            "   [-0.83042453 -0.72594936]]\n",
            "\n",
            "  [[-1.32795863 -0.75179424]\n",
            "   [-1.10585295  0.79656794]]]\n",
            "\n",
            "\n",
            " [[[-0.05676252 -0.31230726]\n",
            "   [-1.66609124 -0.16467187]]\n",
            "\n",
            "  [[-0.54213159 -0.04643955]\n",
            "   [ 0.04653103 -0.39805297]]]], shape=(2, 2, 2, 2), dtype=float64)\n",
            "[[[[-1.00052991  0.31250366]\n",
            "   [-0.83042453 -0.72594936]]\n",
            "\n",
            "  [[-1.32795863 -0.75179424]\n",
            "   [-1.10585295  0.79656794]]]\n",
            "\n",
            "\n",
            " [[[-0.05676252 -0.31230726]\n",
            "   [-1.66609124 -0.16467187]]\n",
            "\n",
            "  [[-0.54213159 -0.04643955]\n",
            "   [ 0.04653103 -0.39805297]]]]\n"
          ]
        }
      ]
    },
    {
      "cell_type": "code",
      "source": [],
      "metadata": {
        "id": "J5NUF11KhMOZ"
      },
      "execution_count": null,
      "outputs": []
    }
  ]
}